{
 "cells": [
  {
   "cell_type": "markdown",
   "id": "1b4ad8cb",
   "metadata": {},
   "source": [
    "## Recommender System via Surprise library"
   ]
  },
  {
   "cell_type": "markdown",
   "id": "1b01865f",
   "metadata": {},
   "source": [
    "### Importing data, libraries & prepping the data"
   ]
  },
  {
   "cell_type": "code",
   "execution_count": 1,
   "id": "94b5ec9a",
   "metadata": {},
   "outputs": [],
   "source": [
    "import pandas as pd\n",
    "import numpy as np\n",
    "from sklearn.model_selection import train_test_split\n",
    "import surprise\n",
    "from surprise.model_selection import cross_validate\n",
    "from surprise import Dataset\n",
    "from surprise import Reader\n",
    "from surprise import SVD\n",
    "import heapq"
   ]
  },
  {
   "cell_type": "code",
   "execution_count": 27,
   "id": "526852f0",
   "metadata": {},
   "outputs": [],
   "source": [
    "path1 = \"/Users/miraslavats/artsist recommender system/usersha1-artmbid-artname-plays.tsv\"\n",
    "user_art_plays = pd.read_csv(path1, sep = \"\\t\", header = None)\n",
    "user_art_plays.drop(user_art_plays.tail(48).index,inplace = True)\n",
    "user_art_plays.dropna(inplace = True)\n",
    "user_art_plays.columns = ['User id', 'Artist id', 'Artist', 'No plays']"
   ]
  },
  {
   "cell_type": "markdown",
   "id": "653d319e",
   "metadata": {},
   "source": [
    "In the cell below I am normalizing the values in \"No plays\" column so that they fall in the range 0-1. This is done because otherwise the values would range from 0 to nearly 450000, which is a very large scale for analysis. I am also creating a new dataframe that only consists of 3 columns: \"User id\", \"Artist id\", and \"No plays\". This format is necessary when using the surprise library. "
   ]
  },
  {
   "cell_type": "code",
   "execution_count": 3,
   "id": "9476d675",
   "metadata": {},
   "outputs": [],
   "source": [
    "normalized_=(user_art_plays['No plays']-user_art_plays['No plays'].min())/(user_art_plays['No plays'].max()-user_art_plays['No plays'].min())\n",
    "user_art_plays['No plays'] = normalized_\n",
    "user_art_plays1 = user_art_plays.drop(['Artist'], axis = 1)"
   ]
  },
  {
   "cell_type": "markdown",
   "id": "37475026",
   "metadata": {},
   "source": [
    "### Training, testing and evaluating SVD model with surprise"
   ]
  },
  {
   "cell_type": "code",
   "execution_count": 5,
   "id": "4c4e7b22",
   "metadata": {},
   "outputs": [],
   "source": [
    "# creaing a suprise dataset object from the stored data\n",
    "# specifying the rating scale bc the default is (0, 5)\n",
    "not_trainset = Dataset.load_from_df(user_art_plays1, reader = Reader(rating_scale=(0, 1)))"
   ]
  },
  {
   "cell_type": "code",
   "execution_count": 8,
   "id": "bd2c58f9",
   "metadata": {},
   "outputs": [],
   "source": [
    "# specifying the number of latent factors in which we want the matrix to be broken down\n",
    "# and the number of iterations of the Stochastic Gradient Descent algorithm \n",
    "svd = SVD(n_factors = 10, n_epochs = 10)"
   ]
  },
  {
   "cell_type": "code",
   "execution_count": 9,
   "id": "974d3f65",
   "metadata": {},
   "outputs": [
    {
     "name": "stdout",
     "output_type": "stream",
     "text": [
      "Evaluating RMSE, MAE of algorithm SVD on 3 split(s).\n",
      "\n",
      "                  Fold 1  Fold 2  Fold 3  Mean    Std     \n",
      "RMSE (testset)    0.0102  0.0102  0.0102  0.0102  0.0000  \n",
      "MAE (testset)     0.0042  0.0042  0.0042  0.0042  0.0000  \n",
      "Fit time          111.64  138.08  183.79  144.50  29.80   \n",
      "Test time         149.44  77.69   92.06   106.40  31.00   \n"
     ]
    },
    {
     "data": {
      "text/plain": [
       "{'test_rmse': array([0.0102349, 0.0102309, 0.0102291]),\n",
       " 'test_mae': array([0.00418698, 0.00417983, 0.00417592]),\n",
       " 'fit_time': (111.64483308792114, 138.07686710357666, 183.79237580299377),\n",
       " 'test_time': (149.43848395347595, 77.69325280189514, 92.05556321144104)}"
      ]
     },
     "execution_count": 9,
     "metadata": {},
     "output_type": "execute_result"
    }
   ],
   "source": [
    "# training, testing and evaluating how the SVD algorithm performs on unseen data in testing\n",
    "# svd factors = 10, n_epochs = 10\n",
    "cross_validate(svd, not_trainset, measures=['RMSE', 'MAE'], cv=3, verbose=True)"
   ]
  },
  {
   "cell_type": "code",
   "execution_count": 7,
   "id": "2920c2ab",
   "metadata": {},
   "outputs": [
    {
     "name": "stdout",
     "output_type": "stream",
     "text": [
      "Evaluating RMSE, MAE of algorithm SVD on 3 split(s).\n",
      "\n",
      "                  Fold 1  Fold 2  Fold 3  Mean    Std     \n",
      "RMSE (testset)    0.0322  0.0322  0.0323  0.0322  0.0000  \n",
      "MAE (testset)     0.0129  0.0129  0.0129  0.0129  0.0000  \n",
      "Fit time          199.56  269.55  311.09  260.07  46.03   \n",
      "Test time         104.91  155.69  97.30   119.30  25.92   \n"
     ]
    },
    {
     "data": {
      "text/plain": [
       "{'test_rmse': array([0.03220468, 0.03215626, 0.03225419]),\n",
       " 'test_mae': array([0.01290115, 0.01288369, 0.01294568]),\n",
       " 'fit_time': (199.55753993988037, 269.54899191856384, 311.09470796585083),\n",
       " 'test_time': (104.90773606300354, 155.69017481803894, 97.30340313911438)}"
      ]
     },
     "execution_count": 7,
     "metadata": {},
     "output_type": "execute_result"
    }
   ],
   "source": [
    "# svd factors = 100, n_epochs = 10\n",
    "from surprise.model_selection import cross_validate\n",
    "cross_validate(svd, not_trainset, measures=['RMSE', 'MAE'], cv=3, verbose=True)"
   ]
  },
  {
   "cell_type": "markdown",
   "id": "3efa5a9a",
   "metadata": {},
   "source": [
    "From the above experiments, we see that SVD with hyper parameters n_factors = 10 and n_epochs = 10 performs slightly better than the model with n_factors=100. This is because the less specific model does not overfit the training data (does not fit the noise in the data), and, hence, is able to make better predictions about unseen data since it is not very specific to the training set."
   ]
  },
  {
   "cell_type": "markdown",
   "id": "a0a01006",
   "metadata": {},
   "source": [
    "### Making predictions and recommendations"
   ]
  },
  {
   "cell_type": "code",
   "execution_count": 17,
   "id": "418bde60",
   "metadata": {},
   "outputs": [
    {
     "data": {
      "text/plain": [
       "Prediction(uid='00000c289a1829a808ac09c00daf10bc3c4e223b', iid='3bd73256-3905-4f3a-97e2-8b341527f805', r_ui=None, est=0.1383394962446166, details={'was_impossible': False})"
      ]
     },
     "execution_count": 17,
     "metadata": {},
     "output_type": "execute_result"
    }
   ],
   "source": [
    "# testing out the predictions for a single user\n",
    "svd.predict(uid = '00000c289a1829a808ac09c00daf10bc3c4e223b', iid = '3bd73256-3905-4f3a-97e2-8b341527f805')"
   ]
  },
  {
   "cell_type": "markdown",
   "id": "f97a55e4",
   "metadata": {},
   "source": [
    "get_recommendations(user, items, n) function uses the trained SVD algorithm to give out predicted scores to every artist in the list for a specific user. Then, these predictions (scores and artist ids) are put in a heap due to time complexity advantage it has over lists when quering min/max values, and n most highly scored artist ids are returned. "
   ]
  },
  {
   "cell_type": "code",
   "execution_count": 11,
   "id": "f6498897",
   "metadata": {},
   "outputs": [],
   "source": [
    "def get_recommendations(user, items, n):\n",
    "    \"\"\"\n",
    "    Get the n most highly rated artists for a given user based on predicted scores.\n",
    "\n",
    "    Args:\n",
    "        user: The user for whom recommendations are being generated.\n",
    "        items (list): The list of artists to consider for recommendations.\n",
    "        n (int): The number of recommendations to return.\n",
    "\n",
    "    Returns:\n",
    "        list: A list of n top recommendations based on predicted scores.\n",
    "\n",
    "    \"\"\"\n",
    "    items = set(items)\n",
    "    prediction_artists, prediction_scores, recommendations = [], [], []\n",
    "    for item in items:\n",
    "        prediction_artists.append(svd.predict(user, item).iid)\n",
    "        prediction_scores.append(svd.predict(user, item).est)\n",
    "    predictions = [(prediction_scores[i], prediction_artists[i]) for i in range(0, len(prediction_scores))]\n",
    "    heapq.heapify(predictions)\n",
    "    recommendations.append(heapq.nlargest(n, predictions))\n",
    "    return recommendations[0]"
   ]
  },
  {
   "cell_type": "markdown",
   "id": "3c715f28",
   "metadata": {},
   "source": [
    "get_artist_name(predictions, id_name) function uses the artists ids (output from the function above) and connects the ids with the corresponding artist names. Specifically, it goes through the list of the recommended ids and a list mapping artist names with their ids to find matches. "
   ]
  },
  {
   "cell_type": "code",
   "execution_count": 12,
   "id": "0540cc88",
   "metadata": {},
   "outputs": [],
   "source": [
    "def get_artist_name(predictions, id_name):\n",
    "    \"\"\"\n",
    "    Get the artist names corresponding to the predicted IDs in the given predictions.\n",
    "\n",
    "    Args:\n",
    "        predictions (list): A list of predictions in the form of (score, artist_id) tuples.\n",
    "        id_name (list): A list of tuples mapping artist IDs to their corresponding names.\n",
    "\n",
    "    Returns:\n",
    "        list: A list of artist names corresponding to the predicted IDs.\n",
    "\n",
    "    \"\"\"\n",
    "    ids = [p[1] for p in predictions] # getting the ids from the tuple\n",
    "    names = []\n",
    "    for i in ids:\n",
    "        for _ in id_name:\n",
    "            if i in _:\n",
    "                names.append(_[1])\n",
    "                break # to save time\n",
    "    return names"
   ]
  },
  {
   "cell_type": "markdown",
   "id": "bd5198f9",
   "metadata": {},
   "source": [
    "get_rec(user_id, items_list, n_rec, id_names_) function puts the two functions defined above together and formats the output for a better user experience."
   ]
  },
  {
   "cell_type": "code",
   "execution_count": 24,
   "id": "ae88c268",
   "metadata": {},
   "outputs": [],
   "source": [
    "def get_rec(user_id, items_list, n_rec, id_names_):\n",
    "    \"\"\"\n",
    "    Get the top recommended artists for a user and format the output.\n",
    "\n",
    "    Args:\n",
    "        user_id: The ID of the user for whom recommendations are being generated.\n",
    "        items_list (list): The list of items to consider for recommendations.\n",
    "        n_rec (int): The number of recommendations to return.\n",
    "        id_names_ (list): A list of tuples mapping artist IDs to their corresponding names.\n",
    "\n",
    "    Returns:\n",
    "        str: A formatted string listing the top recommended artists for the user.\n",
    "\n",
    "    \"\"\"\n",
    "    prediction = get_recommendations(user_id, items_list, n_rec)\n",
    "    names_ = get_artist_name(prediction, list(id_names_))\n",
    "    output = \"\\n\".join(names_)\n",
    "    n = \"\\n\\n\"\n",
    "    return f\"The {n_rec} artists recommended for user {user_id} are:{n}{output}\""
   ]
  },
  {
   "cell_type": "markdown",
   "id": "5bc4b578",
   "metadata": {},
   "source": [
    "Below I am testing out my SVD-based recommendation system on a sample user."
   ]
  },
  {
   "cell_type": "code",
   "execution_count": 26,
   "id": "0ae4e056",
   "metadata": {},
   "outputs": [
    {
     "name": "stdout",
     "output_type": "stream",
     "text": [
      "The 10 artists recommended for user 00000c289a1829a808ac09c00daf10bc3c4e223b are:\n",
      "\n",
      "qloaca letal\n",
      "the chairs\n",
      "ultra violet\n",
      "simmonds and cristopher\n",
      "borut krisnik\n",
      "mad tea party\n",
      "liaison\n",
      "kalibas\n",
      "dead flesh fashion\n",
      "six red carpets\n"
     ]
    }
   ],
   "source": [
    "id_names = set(zip(user_art_plays[\"Artist id\"], user_art_plays[\"Artist\"]))\n",
    "print(get_rec('00000c289a1829a808ac09c00daf10bc3c4e223b',user_art_plays['Artist id'], 10, id_names))"
   ]
  }
 ],
 "metadata": {
  "kernelspec": {
   "display_name": "Python 3 (ipykernel)",
   "language": "python",
   "name": "python3"
  },
  "language_info": {
   "codemirror_mode": {
    "name": "ipython",
    "version": 3
   },
   "file_extension": ".py",
   "mimetype": "text/x-python",
   "name": "python",
   "nbconvert_exporter": "python",
   "pygments_lexer": "ipython3",
   "version": "3.11.4"
  }
 },
 "nbformat": 4,
 "nbformat_minor": 5
}
